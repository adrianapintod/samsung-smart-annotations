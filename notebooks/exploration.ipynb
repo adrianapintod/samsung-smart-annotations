{
 "cells": [
  {
   "cell_type": "code",
   "execution_count": 26,
   "id": "4b9e3d7d",
   "metadata": {},
   "outputs": [],
   "source": [
    "import os\n",
    "import io\n",
    "from io import BytesIO\n",
    "import zipfile\n",
    "import sagemaker, boto3\n",
    "from sagemaker import get_execution_role\n",
    "from sagemaker.session import Session\n",
    "import matplotlib.pyplot as plt"
   ]
  },
  {
   "cell_type": "code",
   "execution_count": 19,
   "id": "d6554dd7",
   "metadata": {},
   "outputs": [],
   "source": [
    "role = get_execution_role()\n",
    "sess = sagemaker.Session()"
   ]
  },
  {
   "cell_type": "code",
   "execution_count": 20,
   "id": "653a49eb",
   "metadata": {},
   "outputs": [],
   "source": [
    "bucket = 'smart-annotation-system'\n",
    "s3 = boto3.client('s3')"
   ]
  },
  {
   "cell_type": "code",
   "execution_count": null,
   "id": "0402ca58",
   "metadata": {},
   "outputs": [],
   "source": [
    "region = boto3.Session().region_name\n",
    "boto3.Session().resource('s3', region_name=region).Bucket('smart-annotation-system'.format(region)).download_file('data/adriipinto_29d0574c.zip', 'adriipinto_29d0574c.zip')"
   ]
  },
  {
   "cell_type": "code",
   "execution_count": 23,
   "id": "b374230d",
   "metadata": {},
   "outputs": [
    {
     "name": "stdout",
     "output_type": "stream",
     "text": [
      "/home/ec2-user/SageMaker/samsung-smart-annotations/notebooks\n"
     ]
    }
   ],
   "source": [
    "!pwd"
   ]
  },
  {
   "cell_type": "code",
   "execution_count": 24,
   "id": "5d7d8f06",
   "metadata": {},
   "outputs": [
    {
     "name": "stdout",
     "output_type": "stream",
     "text": [
      "Archive:  /home/ec2-user/SageMaker/samsung-smart-annotations/notebooks/adriipinto_29d0574c.zip\n"
     ]
    }
   ],
   "source": [
    "!unzip -n /home/ec2-user/SageMaker/samsung-smart-annotations/notebooks/adriipinto_29d0574c.zip"
   ]
  },
  {
   "cell_type": "code",
   "execution_count": 25,
   "id": "33fa167d",
   "metadata": {},
   "outputs": [
    {
     "name": "stdout",
     "output_type": "stream",
     "text": [
      "9.1G\t/home/ec2-user/SageMaker/samsung-smart-annotations/notebooks/ADE20K_2021_17_01\n"
     ]
    }
   ],
   "source": [
    "!du -hs /home/ec2-user/SageMaker/samsung-smart-annotations/notebooks/ADE20K_2021_17_01"
   ]
  },
  {
   "cell_type": "code",
   "execution_count": 29,
   "id": "5b2c80f7",
   "metadata": {},
   "outputs": [
    {
     "data": {
      "image/png": "[encoded data removed]",
      "text/plain": [
       "<Figure size 432x288 with 1 Axes>"
      ]
     },
     "metadata": {
      "needs_background": "light"
     },
     "output_type": "display_data"
    }
   ],
   "source": [
    "import matplotlib.image as mpimg\n",
    "img = mpimg.imread('/home/ec2-user/SageMaker/samsung-smart-annotations/notebooks/ADE20K_2021_17_01/images/ADE/training/nature_landscape/beach/ADE_frame_00000041/instance_000_ADE_frame_00000041.png')\n",
    "imgplot = plt.imshow(img)"
   ]
  },
  {
   "cell_type": "code",
   "execution_count": null,
   "id": "e179e630",
   "metadata": {},
   "outputs": [],
   "source": []
  }
 ],
 "metadata": {
  "kernelspec": {
   "display_name": "conda_python3",
   "language": "python",
   "name": "conda_python3"
  },
  "language_info": {
   "codemirror_mode": {
    "name": "ipython",
    "version": 3
   },
   "file_extension": ".py",
   "mimetype": "text/x-python",
   "name": "python",
   "nbconvert_exporter": "python",
   "pygments_lexer": "ipython3",
   "version": "3.6.13"
  }
 },
 "nbformat": 4,
 "nbformat_minor": 5
}
